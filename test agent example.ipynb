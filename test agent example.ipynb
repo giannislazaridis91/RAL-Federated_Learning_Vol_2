{
 "cells": [
  {
   "cell_type": "code",
   "execution_count": 1,
   "metadata": {
    "collapsed": false
   },
   "outputs": [
    {
     "name": "stderr",
     "output_type": "stream",
     "text": [
      "/home/lazaioan/anaconda3/envs/RLA/lib/python3.6/site-packages/tensorflow/python/framework/dtypes.py:516: FutureWarning: Passing (type, 1) or '1type' as a synonym of type is deprecated; in a future version of numpy, it will be understood as (type, (1,)) / '(1,)type'.\n",
      "  _np_qint8 = np.dtype([(\"qint8\", np.int8, 1)])\n",
      "/home/lazaioan/anaconda3/envs/RLA/lib/python3.6/site-packages/tensorflow/python/framework/dtypes.py:517: FutureWarning: Passing (type, 1) or '1type' as a synonym of type is deprecated; in a future version of numpy, it will be understood as (type, (1,)) / '(1,)type'.\n",
      "  _np_quint8 = np.dtype([(\"quint8\", np.uint8, 1)])\n",
      "/home/lazaioan/anaconda3/envs/RLA/lib/python3.6/site-packages/tensorflow/python/framework/dtypes.py:518: FutureWarning: Passing (type, 1) or '1type' as a synonym of type is deprecated; in a future version of numpy, it will be understood as (type, (1,)) / '(1,)type'.\n",
      "  _np_qint16 = np.dtype([(\"qint16\", np.int16, 1)])\n",
      "/home/lazaioan/anaconda3/envs/RLA/lib/python3.6/site-packages/tensorflow/python/framework/dtypes.py:519: FutureWarning: Passing (type, 1) or '1type' as a synonym of type is deprecated; in a future version of numpy, it will be understood as (type, (1,)) / '(1,)type'.\n",
      "  _np_quint16 = np.dtype([(\"quint16\", np.uint16, 1)])\n",
      "/home/lazaioan/anaconda3/envs/RLA/lib/python3.6/site-packages/tensorflow/python/framework/dtypes.py:520: FutureWarning: Passing (type, 1) or '1type' as a synonym of type is deprecated; in a future version of numpy, it will be understood as (type, (1,)) / '(1,)type'.\n",
      "  _np_qint32 = np.dtype([(\"qint32\", np.int32, 1)])\n",
      "/home/lazaioan/anaconda3/envs/RLA/lib/python3.6/site-packages/tensorflow/python/framework/dtypes.py:525: FutureWarning: Passing (type, 1) or '1type' as a synonym of type is deprecated; in a future version of numpy, it will be understood as (type, (1,)) / '(1,)type'.\n",
      "  np_resource = np.dtype([(\"resource\", np.ubyte, 1)])\n",
      "/home/lazaioan/anaconda3/envs/RLA/lib/python3.6/site-packages/tensorboard/compat/tensorflow_stub/dtypes.py:541: FutureWarning: Passing (type, 1) or '1type' as a synonym of type is deprecated; in a future version of numpy, it will be understood as (type, (1,)) / '(1,)type'.\n",
      "  _np_qint8 = np.dtype([(\"qint8\", np.int8, 1)])\n",
      "/home/lazaioan/anaconda3/envs/RLA/lib/python3.6/site-packages/tensorboard/compat/tensorflow_stub/dtypes.py:542: FutureWarning: Passing (type, 1) or '1type' as a synonym of type is deprecated; in a future version of numpy, it will be understood as (type, (1,)) / '(1,)type'.\n",
      "  _np_quint8 = np.dtype([(\"quint8\", np.uint8, 1)])\n",
      "/home/lazaioan/anaconda3/envs/RLA/lib/python3.6/site-packages/tensorboard/compat/tensorflow_stub/dtypes.py:543: FutureWarning: Passing (type, 1) or '1type' as a synonym of type is deprecated; in a future version of numpy, it will be understood as (type, (1,)) / '(1,)type'.\n",
      "  _np_qint16 = np.dtype([(\"qint16\", np.int16, 1)])\n",
      "/home/lazaioan/anaconda3/envs/RLA/lib/python3.6/site-packages/tensorboard/compat/tensorflow_stub/dtypes.py:544: FutureWarning: Passing (type, 1) or '1type' as a synonym of type is deprecated; in a future version of numpy, it will be understood as (type, (1,)) / '(1,)type'.\n",
      "  _np_quint16 = np.dtype([(\"quint16\", np.uint16, 1)])\n",
      "/home/lazaioan/anaconda3/envs/RLA/lib/python3.6/site-packages/tensorboard/compat/tensorflow_stub/dtypes.py:545: FutureWarning: Passing (type, 1) or '1type' as a synonym of type is deprecated; in a future version of numpy, it will be understood as (type, (1,)) / '(1,)type'.\n",
      "  _np_qint32 = np.dtype([(\"qint32\", np.int32, 1)])\n",
      "/home/lazaioan/anaconda3/envs/RLA/lib/python3.6/site-packages/tensorboard/compat/tensorflow_stub/dtypes.py:550: FutureWarning: Passing (type, 1) or '1type' as a synonym of type is deprecated; in a future version of numpy, it will be understood as (type, (1,)) / '(1,)type'.\n",
      "  np_resource = np.dtype([(\"resource\", np.ubyte, 1)])\n"
     ]
    }
   ],
   "source": [
    "%matplotlib inline\n",
    "import numpy as np\n",
    "import sys\n",
    "import tensorflow as tf\n",
    "import copy\n",
    "from sklearn import metrics\n",
    "from sklearn.linear_model import LogisticRegression\n",
    "# depending on the classification model use, we might need to import other packages\n",
    "#from sklearn import svm\n",
    "#from sklearn.ensemble import RandomForestClassifier\n",
    "import sklearn\n",
    "from matplotlib import pyplot as plt\n",
    "import pickle as pkl\n",
    "\n",
    "from datasets import DatasetUCI\n",
    "from envs import LalEnvFirstAccuracy\n",
    "\n",
    "from estimator import Estimator\n",
    "from helpers import Minibatch, ReplayBuffer\n",
    "from dqn import DQN"
   ]
  },
  {
   "cell_type": "markdown",
   "metadata": {},
   "source": [
    "Strategies to test"
   ]
  },
  {
   "cell_type": "code",
   "execution_count": 3,
   "metadata": {
    "collapsed": true
   },
   "outputs": [],
   "source": [
    "# Random sampling\n",
    "rs = True\n",
    "# Uncertainty sampling\n",
    "us = True\n",
    "# LAL-RL learnt strategy on other datasets\n",
    "rl = True\n",
    "# LAL-RL learnt strategy on the same dataset (another half)\n",
    "rl_notransfer = False\n",
    "# LAL-independent and LAL-iterative strategies\n",
    "lal = False\n",
    "# ALBE strategy that learns a combination of rs, us and quire\n",
    "albe = False\n",
    "# QUIRE strategy\n",
    "quire = False"
   ]
  },
  {
   "cell_type": "markdown",
   "metadata": {},
   "source": [
    "## Experiment parameters"
   ]
  },
  {
   "cell_type": "code",
   "execution_count": 4,
   "metadata": {
    "collapsed": true
   },
   "outputs": [],
   "source": [
    "DIRNAME_TRANSFER = './agents/1-australian-logreg-8-to-1/'\n",
    "DIRNAME_NOTRANSFER = ''\n",
    "DIRNAME_RESULTS = './AL_results/test-agent-australian.p'\n",
    "\n",
    "TOLERANCE_LEVEL = 0.98\n",
    "test_dataset_names = ['australian']\n",
    "\n",
    "N_STATE_ESTIMATION = 30\n",
    "SUBSET = -1 # -1 for using all datapoints, 0 for even, 1 for odd\n",
    "SIZE = 100\n",
    "\n",
    "N_JOBS = 1 # can set more if we want to parallelise\n",
    "QUALITY_METHOD = metrics.accuracy_score\n",
    "\n",
    "N_EXPERIMENTS = 500"
   ]
  },
  {
   "cell_type": "markdown",
   "metadata": {},
   "source": [
    "Can use different models for classifier\n",
    "<br>\n",
    "`LogisticRegression(n_jobs=N_JOBS)` <br>\n",
    "SVM: <br>\n",
    "`svm.SVC(probability=True)` <br>\n",
    "RF: <br>\n",
    "`RandomForestClassifier(50, oob_score=True, n_jobs=N_JOBS)`"
   ]
  },
  {
   "cell_type": "code",
   "execution_count": 6,
   "metadata": {
    "collapsed": false
   },
   "outputs": [],
   "source": [
    "dataset = DatasetUCI(possible_names=test_dataset_names, n_state_estimation=N_STATE_ESTIMATION, subset=SUBSET, size=SIZE)\n",
    "model = LogisticRegression(n_jobs=N_JOBS)\n",
    "env = LalEnvFirstAccuracy(dataset, model, quality_method=QUALITY_METHOD)"
   ]
  },
  {
   "cell_type": "markdown",
   "metadata": {},
   "source": [
    "## Prepare AL methods"
   ]
  },
  {
   "cell_type": "markdown",
   "metadata": {},
   "source": [
    "#### Methods for random sampling and uncertainty sampling"
   ]
  },
  {
   "cell_type": "code",
   "execution_count": 7,
   "metadata": {
    "collapsed": true
   },
   "outputs": [],
   "source": [
    "if rs:\n",
    "    from Test_AL import policy_random\n",
    "if us:\n",
    "    from Test_AL import policy_uncertainty"
   ]
  },
  {
   "cell_type": "markdown",
   "metadata": {},
   "source": [
    "#### Load RL model"
   ]
  },
  {
   "cell_type": "code",
   "execution_count": 8,
   "metadata": {
    "collapsed": false,
    "scrolled": false
   },
   "outputs": [
    {
     "name": "stdout",
     "output_type": "stream",
     "text": [
      "WARNING:tensorflow:From /home/lazaioan/Desktop/RAL Codes/LAL-RL-Master-Original (copy 7)/estimator.py:45: The name tf.variable_scope is deprecated. Please use tf.compat.v1.variable_scope instead.\n",
      "\n",
      "WARNING:tensorflow:\n",
      "The TensorFlow contrib module will not be included in TensorFlow 2.0.\n",
      "For more information, please see:\n",
      "  * https://github.com/tensorflow/community/blob/master/rfcs/20180907-contrib-sunset.md\n",
      "  * https://github.com/tensorflow/addons\n",
      "  * https://github.com/tensorflow/io (for I/O related ops)\n",
      "If you depend on functionality not listed there, please file an issue.\n",
      "\n",
      "WARNING:tensorflow:From /home/lazaioan/Desktop/RAL Codes/LAL-RL-Master-Original (copy 7)/dqn.py:59: The name tf.placeholder is deprecated. Please use tf.compat.v1.placeholder instead.\n",
      "\n",
      "WARNING:tensorflow:From /home/lazaioan/Desktop/RAL Codes/LAL-RL-Master-Original (copy 7)/dqn.py:69: add_dispatch_support.<locals>.wrapper (from tensorflow.python.ops.array_ops) is deprecated and will be removed in a future version.\n",
      "Instructions for updating:\n",
      "Use tf.where in 2.0, which has the same broadcast rule as np.where\n",
      "WARNING:tensorflow:From /home/lazaioan/Desktop/RAL Codes/LAL-RL-Master-Original (copy 7)/dqn.py:90: The name tf.train.AdamOptimizer is deprecated. Please use tf.compat.v1.train.AdamOptimizer instead.\n",
      "\n",
      "WARNING:tensorflow:From /home/lazaioan/Desktop/RAL Codes/LAL-RL-Master-Original (copy 7)/dqn.py:91: The name tf.get_collection is deprecated. Please use tf.compat.v1.get_collection instead.\n",
      "\n",
      "WARNING:tensorflow:From /home/lazaioan/anaconda3/envs/RLA/lib/python3.6/site-packages/tensorflow/python/training/saver.py:1276: checkpoint_exists (from tensorflow.python.training.checkpoint_management) is deprecated and will be removed in a future version.\n",
      "Instructions for updating:\n",
      "Use standard file APIs to check for files with this prefix.\n",
      "INFO:tensorflow:Restoring parameters from ./agents/1-australian-logreg-8-to-1/checkpoints/model\n",
      "Loading checkpoint ./agents/1-australian-logreg-8-to-1/checkpoints/model...\n",
      "\n"
     ]
    }
   ],
   "source": [
    "if rl:\n",
    "    from Test_AL import policy_rl\n",
    "    tf.reset_default_graph()\n",
    "    # Load the DQN agent from DIRNAME_TRANSFER\n",
    "    agent = DQN(experiment_dir=DIRNAME_TRANSFER,\n",
    "            observation_length=N_STATE_ESTIMATION,\n",
    "            learning_rate=1e-3,\n",
    "            batch_size=32,\n",
    "            target_copy_factor=0.01,\n",
    "            bias_average=0,\n",
    "           )"
   ]
  },
  {
   "cell_type": "markdown",
   "metadata": {},
   "source": [
    "## Run the experiemnts"
   ]
  },
  {
   "cell_type": "code",
   "execution_count": 9,
   "metadata": {
    "collapsed": false,
    "scrolled": true
   },
   "outputs": [
    {
     "name": "stdout",
     "output_type": "stream",
     "text": [
      "0 "
     ]
    },
    {
     "ename": "ValueError",
     "evalue": "too many values to unpack (expected 2)",
     "output_type": "error",
     "traceback": [
      "\u001b[0;31m---------------------------------------------------------------------------\u001b[0m",
      "\u001b[0;31mValueError\u001b[0m                                Traceback (most recent call last)",
      "\u001b[0;32m<ipython-input-9-1c8201e5ccdd>\u001b[0m in \u001b[0;36m<module>\u001b[0;34m()\u001b[0m\n\u001b[1;32m     13\u001b[0m     \u001b[0mprint\u001b[0m\u001b[0;34m(\u001b[0m\u001b[0mexperiment\u001b[0m\u001b[0;34m,\u001b[0m \u001b[0mend\u001b[0m\u001b[0;34m=\u001b[0m\u001b[0;34m' '\u001b[0m\u001b[0;34m)\u001b[0m\u001b[0;34m\u001b[0m\u001b[0;34m\u001b[0m\u001b[0m\n\u001b[1;32m     14\u001b[0m     \u001b[0;31m# reset the environment\u001b[0m\u001b[0;34m\u001b[0m\u001b[0;34m\u001b[0m\u001b[0;34m\u001b[0m\u001b[0m\n\u001b[0;32m---> 15\u001b[0;31m     \u001b[0mstate\u001b[0m\u001b[0;34m,\u001b[0m \u001b[0mnext_action_state\u001b[0m \u001b[0;34m=\u001b[0m \u001b[0menv\u001b[0m\u001b[0;34m.\u001b[0m\u001b[0mreset\u001b[0m\u001b[0;34m(\u001b[0m\u001b[0;34m)\u001b[0m\u001b[0;34m\u001b[0m\u001b[0;34m\u001b[0m\u001b[0m\n\u001b[0m\u001b[1;32m     16\u001b[0m     \u001b[0;31m# run the experiments\u001b[0m\u001b[0;34m\u001b[0m\u001b[0;34m\u001b[0m\u001b[0;34m\u001b[0m\u001b[0m\n\u001b[1;32m     17\u001b[0m     \u001b[0;31m# 1. copy the initial state and environment\u001b[0m\u001b[0;34m\u001b[0m\u001b[0;34m\u001b[0m\u001b[0;34m\u001b[0m\u001b[0m\n",
      "\u001b[0;31mValueError\u001b[0m: too many values to unpack (expected 2)"
     ]
    }
   ],
   "source": [
    "# Results will be stored in all_results dictionary\n",
    "all_results = {}\n",
    "all_scores_rand = []\n",
    "all_scores_uncert = []\n",
    "all_scores_rl = []\n",
    "all_scores_rl_notransfer = []\n",
    "all_scores_LAL_independant = []\n",
    "all_scores_LAL_iterative = []\n",
    "all_scores_ALBE = []\n",
    "all_scores_QUIRE = []\n",
    "\n",
    "for experiment in range(N_EXPERIMENTS):\n",
    "    print(experiment, end=' ')\n",
    "    # reset the environment\n",
    "    state, next_action_state = env.reset()\n",
    "    # run the experiments\n",
    "    # 1. copy the initial state and environment \n",
    "    # so that all strategies start from the same point            \n",
    "    # 2. done variable indicates when terminal state is reached\n",
    "    # 3. repeat until terminal state is reached\n",
    "    # 4. select an action according to the policy\n",
    "    # to see the prob of selected action: taken_action_state = next_action_state_uncert[:,action]\n",
    "    # 5. make a step in the environment\n",
    "    # 6. keep track of the scores in the episode\n",
    "    if rs:\n",
    "        env_rand = copy.deepcopy(env)\n",
    "        state_rand = copy.deepcopy(state)\n",
    "        done = False\n",
    "        while not(done):\n",
    "            action = policy_random(env_rand.n_actions)\n",
    "            _, _, _, done = env_rand.step(action)\n",
    "        all_scores_rand.append(env_rand.episode_qualities)\n",
    "    if us:\n",
    "        next_action_state_uncert = next_action_state\n",
    "        env_uncert = copy.deepcopy(env)\n",
    "        state_uncert = copy.deepcopy(state)\n",
    "        done = False\n",
    "        while not(done):\n",
    "            action = policy_uncertainty(next_action_state_uncert[0,:])\n",
    "            next_state, next_action_state_uncert, reward, done = env_uncert.step(action)\n",
    "        all_scores_uncert.append(env_uncert.episode_qualities)\n",
    "    if rl:\n",
    "        next_action_state_rl = next_action_state\n",
    "        env_rl = copy.deepcopy(env)\n",
    "        state_rl = copy.deepcopy(state)\n",
    "        done = False\n",
    "        while not(done):\n",
    "            action = policy_rl(agent, state_rl, next_action_state_rl)        \n",
    "            next_state, next_action_state_rl, reward, done = env_rl.step(action)\n",
    "            state_rl = next_state\n",
    "        all_scores_rl.append(env_rl.episode_qualities)\n",
    "\n",
    "# record the results\n",
    "all_results['all_scores_rand'] = all_scores_rand\n",
    "all_results['all_scores_uncert'] = all_scores_uncert\n",
    "all_results['all_scores_rl'] = all_scores_rl\n",
    "pkl.dump(all_results, open(DIRNAME_RESULTS, \"wb\" ))"
   ]
  },
  {
   "cell_type": "markdown",
   "metadata": {},
   "source": [
    "## Load the results"
   ]
  },
  {
   "cell_type": "code",
   "execution_count": null,
   "metadata": {
    "collapsed": false
   },
   "outputs": [],
   "source": [
    "all_results = pkl.load(open(DIRNAME_RESULTS, \"rb\" ) )"
   ]
  },
  {
   "cell_type": "code",
   "execution_count": null,
   "metadata": {
    "collapsed": false
   },
   "outputs": [],
   "source": [
    "all_scores_rand = all_results['all_scores_rand']\n",
    "all_scores_uncert = all_results['all_scores_uncert']\n",
    "all_scores_rl = all_results['all_scores_rl']"
   ]
  },
  {
   "cell_type": "markdown",
   "metadata": {},
   "source": [
    "## Check the results"
   ]
  },
  {
   "cell_type": "markdown",
   "metadata": {},
   "source": [
    "#### Compute the mean duration, it's std, median and max."
   ]
  },
  {
   "cell_type": "code",
   "execution_count": null,
   "metadata": {
    "collapsed": false
   },
   "outputs": [],
   "source": [
    "max_duration = 0\n",
    "if rs:\n",
    "    print(\"Random\")\n",
    "    all_scores_rand, all_durations_rand = check_performance(all_scores_rand)\n",
    "    max_duration = max(max_duration, max(all_durations_rand))\n",
    "if us:\n",
    "    print(\"Uncertainty\")\n",
    "    all_scores_uncert, all_durations_uncert = check_performance(all_scores_uncert)\n",
    "    max_duration = max(max_duration, max(all_durations_uncert))\n",
    "if rl:\n",
    "    print(\"RL\")\n",
    "    all_scores_rl, all_durations_rl = check_performance(all_scores_rl)\n",
    "    max_duration = max(max_duration, max(all_durations_rl))"
   ]
  },
  {
   "cell_type": "markdown",
   "metadata": {},
   "source": [
    "#### Compute the relative scores that can be used to plot the results"
   ]
  },
  {
   "cell_type": "code",
   "execution_count": null,
   "metadata": {
    "collapsed": false
   },
   "outputs": [],
   "source": [
    "scores_relative_rand = check_performance_for_figure(all_scores_rand, max_duration)\n",
    "scores_relative_uncert = check_performance_for_figure(all_scores_uncert, max_duration)\n",
    "scores_relative_rl = check_performance_for_figure(all_scores_rl, max_duration)"
   ]
  },
  {
   "cell_type": "markdown",
   "metadata": {},
   "source": [
    "#### Plot the results"
   ]
  },
  {
   "cell_type": "code",
   "execution_count": null,
   "metadata": {
    "collapsed": false
   },
   "outputs": [],
   "source": [
    "plt.figure(figsize=(20,10))\n",
    "if rs:\n",
    "    m_line = np.mean(scores_relative_rand, axis=0)\n",
    "    var_line = np.var(scores_relative_rand, axis=0)\n",
    "    plt.plot(m_line, linewidth=2.0, label = 'random', color='k')\n",
    "    plt.fill_between(range(np.size(m_line)), m_line - var_line, m_line + var_line, color='k', alpha=0.2)\n",
    "if us:\n",
    "    m_line = np.mean(scores_relative_uncert, axis=0)\n",
    "    var_line = np.var(scores_relative_uncert, axis=0)\n",
    "    plt.plot(m_line, linewidth=2.0, label = 'uncertainty', color='b')\n",
    "    plt.fill_between(range(np.size(m_line)), m_line - var_line, m_line + var_line, color='b', alpha=0.2)\n",
    "if rl:\n",
    "    m_line = np.mean(scores_relative_rl, axis=0)\n",
    "    var_line = np.var(scores_relative_rl, axis=0)\n",
    "    plt.plot(m_line, linewidth=2.0, label = 'rl', color='red')\n",
    "    plt.fill_between(range(np.size(m_line)), m_line - var_line, m_line + var_line, color='red', alpha=0.2)"
   ]
  }
 ],
 "metadata": {
  "kernelspec": {
   "display_name": "Python 3",
   "language": "python",
   "name": "python3"
  },
  "language_info": {
   "codemirror_mode": {
    "name": "ipython",
    "version": 3
   },
   "file_extension": ".py",
   "mimetype": "text/x-python",
   "name": "python",
   "nbconvert_exporter": "python",
   "pygments_lexer": "ipython3",
   "version": "3.6.13"
  }
 },
 "nbformat": 4,
 "nbformat_minor": 1
}
